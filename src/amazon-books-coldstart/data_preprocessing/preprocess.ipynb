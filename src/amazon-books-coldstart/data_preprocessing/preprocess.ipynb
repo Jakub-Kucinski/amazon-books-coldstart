{
 "cells": [
  {
   "cell_type": "code",
   "execution_count": 1,
   "metadata": {},
   "outputs": [],
   "source": [
    "import csv\n",
    "import numpy as np"
   ]
  },
  {
   "cell_type": "code",
   "execution_count": 2,
   "metadata": {},
   "outputs": [],
   "source": [
    "class Book:\n",
    "    def __init__(self, row, id):\n",
    "        self.id = id\n",
    "        self.title = str(row[0])\n",
    "        self.desciption = str(row[1])\n",
    "        self.authors = row[2]\n",
    "        self.image = str(row[3])\n",
    "        self.previewLink = str(row[4])\n",
    "        self.publisher = str(row[5])\n",
    "        self.published_date = str(row[6])\n",
    "        self.infoLink = str(row[7])\n",
    "        self.categories = row[8]\n",
    "        self.ratingsCount = row[9]\n",
    "        \n",
    "class Review:\n",
    "    def __init__(self, row):\n",
    "        def parse_helpfulness(helpfulness):\n",
    "            helpfulness = helpfulness.split('/')\n",
    "            return [int(helpfulness[0]), int(helpfulness[1])]\n",
    "        self.book_id = str(row[0])\n",
    "        self.book_title = str(row[1])\n",
    "        if row[2] == '':\n",
    "            self.price = 0\n",
    "        else:\n",
    "            self.price = float(row[2])\n",
    "        self.user_id = str(row[3])\n",
    "        self.profile_name = str(row[4])\n",
    "        self.helpfulness = parse_helpfulness(row[5])\n",
    "        self.score = float(row[6])\n",
    "        self.time = int(row[7])\n",
    "        self.summary = str(row[8])\n",
    "        self.text = str(row[9])"
   ]
  },
  {
   "cell_type": "code",
   "execution_count": 7,
   "metadata": {},
   "outputs": [],
   "source": [
    "class Data_reader():\n",
    "    def __init__(self):\n",
    "        self.title_to_id = {}\n",
    "        self.ratings = {}\n",
    "        self.books = {}\n",
    "        self.read_ratings()\n",
    "        self.read_books()\n",
    "        # 0.7 - train, 0.2 - validation, 0.1 - test        \n",
    "        self.split_dataset(0.7, 0.2)\n",
    "\n",
    "    def read_ratings(self):\n",
    "        i = 0\n",
    "        success = 0\n",
    "        with open('../../../data/01_raw/Books_rating.csv', newline='') as csvfile:\n",
    "            spamreader = csv.reader(csvfile, delimiter=',', quotechar='|')\n",
    "            for row in spamreader:\n",
    "                if i > 0:\n",
    "                    try:\n",
    "                        review = Review(row)\n",
    "                        self.ratings[str(row[0])] = review\n",
    "                        self.title_to_id[review.book_title] = review.book_id\n",
    "                        success += 1\n",
    "                    except:\n",
    "                        pass\n",
    "                i += 1\n",
    "        print(\"Read \" + str(success) + \" out of \" + str(i) + \" ratings.\")\n",
    "\n",
    "    def read_books(self):\n",
    "        i = 0\n",
    "        success = 0\n",
    "        with open('../../../data/01_raw/books_data.csv', newline='') as csvfile:\n",
    "            spamreader = csv.reader(csvfile, delimiter=',', quotechar='|')\n",
    "            for row in spamreader:\n",
    "                if i > 0:\n",
    "                    try:\n",
    "                        id = self.title_to_id[row[0]]\n",
    "                        self.books[id] = Book(row, id)\n",
    "                        success += 1\n",
    "                    except:\n",
    "                        pass\n",
    "                i += 1\n",
    "        print(\"Read \" + str(success) + \" out of \" + str(i) + \" books.\")\n",
    "\n",
    "    def split_dataset(self, train_size, valid_size):\n",
    "        train_size = int(len(self.title_to_id) * train_size)\n",
    "        valid_size = int(len(self.title_to_id) * valid_size)\n",
    "        test_size = len(self.title_to_id) - train_size - valid_size\n",
    "        np.random.seed(0)\n",
    "        all_indices = np.random.choice(list(self.title_to_id.values()), size=len(self.title_to_id), replace=False)\n",
    "        train_indices = set(all_indices[:train_size])\n",
    "        valid_indices = set(all_indices[train_size: train_size + valid_size])\n",
    "        test_indices = set(all_indices[train_size + valid_size: ])\n",
    "        ratings = {'test': {}, 'train' : {}, 'validation' : {}}\n",
    "        books = {'test': {}, 'train' : {}, 'validation' : {}}\n",
    "        for id in self.ratings.keys():\n",
    "            review = self.ratings[id]\n",
    "            if review.book_id in train_indices:\n",
    "                ratings['train'][id] = review\n",
    "            if review.book_id in valid_indices:\n",
    "                ratings['validation'][id] = review\n",
    "            if review.book_id in test_indices:\n",
    "                ratings['test'][id] = review\n",
    "        for id in self.books.keys():\n",
    "            book = self.books[id]\n",
    "            if book.id in train_indices:\n",
    "                books['train'][id] = review\n",
    "            if book.id in valid_indices:\n",
    "                books['validation'][id] = review\n",
    "            if book.id in test_indices:\n",
    "                books['test'][id] = review\n",
    "        self.ratings = ratings\n",
    "        self.books = books"
   ]
  },
  {
   "cell_type": "code",
   "execution_count": 8,
   "metadata": {},
   "outputs": [
    {
     "name": "stdout",
     "output_type": "stream",
     "text": [
      "Read 2586888 out of 3000001 ratings.\n",
      "Read 178729 out of 212405 books.\n"
     ]
    },
    {
     "data": {
      "text/plain": [
       "<__main__.Data_reader at 0x7f81b3b11160>"
      ]
     },
     "execution_count": 8,
     "metadata": {},
     "output_type": "execute_result"
    }
   ],
   "source": [
    "dr = Data_reader()"
   ]
  },
  {
   "cell_type": "code",
   "execution_count": null,
   "metadata": {},
   "outputs": [],
   "source": []
  }
 ],
 "metadata": {
  "kernelspec": {
   "display_name": "Python 3",
   "language": "python",
   "name": "python3"
  },
  "language_info": {
   "codemirror_mode": {
    "name": "ipython",
    "version": 3
   },
   "file_extension": ".py",
   "mimetype": "text/x-python",
   "name": "python",
   "nbconvert_exporter": "python",
   "pygments_lexer": "ipython3",
   "version": "3.8.10"
  },
  "orig_nbformat": 4
 },
 "nbformat": 4,
 "nbformat_minor": 2
}
